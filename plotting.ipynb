{
 "cells": [
  {
   "cell_type": "code",
   "execution_count": 3,
   "metadata": {},
   "outputs": [
    {
     "data": {
      "application/vnd.jupyter.widget-view+json": {
       "model_id": "53dbd787f9c64cdb9c489887ad77a72a",
       "version_major": 2,
       "version_minor": 0
      },
      "text/plain": [
       "VBox(children=(HBox(children=(FloatSlider(value=1.0, description='rho_s', max=20.0, min=1.0), FloatSlider(valu…"
      ]
     },
     "metadata": {},
     "output_type": "display_data"
    },
    {
     "data": {
      "application/vnd.jupyter.widget-view+json": {
       "model_id": "993697875fb645caae21fba787cb74d5",
       "version_major": 2,
       "version_minor": 0
      },
      "text/plain": [
       "FigureWidget({\n",
       "    'data': [{'name': 'NFW',\n",
       "              'type': 'scatter',\n",
       "              'uid': 'cbb3b0ca-8d22-4f61-a3d7-a9c76df369b4',\n",
       "              'x': array([ 0.1,  0.2,  0.3, ..., 49.8, 49.9, 50. ]),\n",
       "              'y': array([0.23517167, 0.44353709, 0.63010706, ..., 6.0860825 , 6.08807251,\n",
       "                          6.09005804])},\n",
       "             {'name': 'Exponential',\n",
       "              'type': 'scatter',\n",
       "              'uid': '9c3b57c2-de2c-47cb-8580-8f504bfba36d',\n",
       "              'x': array([ 0.1,  0.2,  0.3, ..., 49.8, 49.9, 50. ]),\n",
       "              'y': array([ 0.34581039,  0.67496615,  0.98847979, ..., 25.01609995, 25.04120392,\n",
       "                          25.06628275])}],\n",
       "    'layout': {'height': 500,\n",
       "               'template': '...',\n",
       "               'title': {'text': 'Rotation Curves'},\n",
       "               'width': 800,\n",
       "               'xaxis': {'title': {'text': 'Radial Distance (r)'}},\n",
       "               'yaxis': {'title': {'text': 'Rotation Curve (v)'}}}\n",
       "})"
      ]
     },
     "metadata": {},
     "output_type": "display_data"
    }
   ],
   "source": [
    "'''\n",
    "# Dependencies\n",
    "import numpy as np\n",
    "import plotly.graph_objs as go\n",
    "from ipywidgets import interact, FloatSlider, Checkbox, HBox, VBox\n",
    "import plotly.graph_objs as go\n",
    "import ipywidgets as widgets\n",
    "'''\n",
    "\n",
    "# Define the radial distance array\n",
    "r = np.linspace(0.1, 50, 500)  # Avoiding r=0 to prevent singularity\n",
    "\n",
    "# Create initial figure widget\n",
    "fig = go.FigureWidget()\n",
    "fig.update_layout(title=\"Rotation Curves\", xaxis_title=\"Radial Distance (r)\", yaxis_title=\"Rotation Curve (v)\", height=500, width=800)\n",
    "\n",
    "# Function to update the plot\n",
    "def update_plot(rho_s=1, r_s=1, sigma_0=1, r_d=1, show_nfw=True, show_exponential=True): # default values\n",
    "    with fig.batch_update():\n",
    "        fig.data = []  # Clear existing data\n",
    "\n",
    "        if show_nfw:\n",
    "            nfw_potential = NFWPotential(r, rho_s, r_s)\n",
    "            nfw_curve = nfw_potential.rotation_curve()\n",
    "            fig.add_trace(go.Scatter(x=r, y=nfw_curve, name='NFW'))\n",
    "\n",
    "        if show_exponential:\n",
    "            exp_potential = ExponentialPotential(r, sigma_0, r_d)\n",
    "            exp_curve = exp_potential.rotation_curve()\n",
    "            fig.add_trace(go.Scatter(x=r, y=exp_curve, name='Exponential'))\n",
    "\n",
    "# Create interactive sliders and checkboxes\n",
    "rho_s_slider = FloatSlider(min=1, max=20, step=0.1, value=1, description='rho_s')\n",
    "r_s_slider = FloatSlider(min=1, max=20, step=0.1, value=1, description='r_s')\n",
    "sigma_0_slider = FloatSlider(min=1, max=20, step=0.01, value=1, description='sigma_0')\n",
    "r_d_slider = FloatSlider(min=1, max=20, step=0.01, value=1, description='r_d')\n",
    "\n",
    "show_nfw_checkbox = Checkbox(value=True, description='Show NFW')\n",
    "show_exponential_checkbox = Checkbox(value=True, description='Show Exponential')\n",
    "\n",
    "# Link interactive controls to update function\n",
    "interactive_controls = widgets.interactive(update_plot, \n",
    "                                           rho_s=rho_s_slider, \n",
    "                                           r_s=r_s_slider, \n",
    "                                           sigma_0=sigma_0_slider, \n",
    "                                           r_d=r_d_slider, \n",
    "                                           show_nfw=show_nfw_checkbox, \n",
    "                                           show_exponential=show_exponential_checkbox)\n",
    "\n",
    "# Display the interactive controls and figure\n",
    "ui = VBox([HBox([rho_s_slider, r_s_slider]), HBox([sigma_0_slider, r_d_slider]), HBox([show_nfw_checkbox, show_exponential_checkbox])])\n",
    "display(ui, fig)\n",
    "\n",
    "# Initial plot update\n",
    "update_plot(rho_s=1, r_s=11, sigma_0=1, r_d=1, show_nfw=True, show_exponential=True)\n",
    "\n",
    "\n",
    "\n",
    "# TBD:\n",
    "\n",
    "# check and fix potentials\n",
    "# astropy units - normalization\n",
    "# add a third potential or more\n",
    "# add the experimental data\n",
    "# not sure yet if the calculation of velocity from potential is correct"
   ]
  }
 ],
 "metadata": {
  "kernelspec": {
   "display_name": "codeastro",
   "language": "python",
   "name": "python3"
  },
  "language_info": {
   "codemirror_mode": {
    "name": "ipython",
    "version": 3
   },
   "file_extension": ".py",
   "mimetype": "text/x-python",
   "name": "python",
   "nbconvert_exporter": "python",
   "pygments_lexer": "ipython3",
   "version": "3.10.13"
  }
 },
 "nbformat": 4,
 "nbformat_minor": 2
}
