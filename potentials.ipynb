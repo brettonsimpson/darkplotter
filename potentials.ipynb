{
 "cells": [
  {
   "cell_type": "code",
   "execution_count": null,
   "metadata": {},
   "outputs": [],
   "source": [
    "class Potential:\n",
    "    \n",
    "    def rotation_curve(self):\n",
    "        return np.sqrt(self.r * np.abs(self.potential())) #TBD"
   ]
  },
  {
   "cell_type": "code",
   "execution_count": null,
   "metadata": {},
   "outputs": [],
   "source": [
    "class NFWPotential:\n",
    "    def __init__(self, r, rho_s, r_s):\n",
    "        self.r = r\n",
    "        self.rho_s = rho_s\n",
    "        self.r_s = r_s\n",
    "\n",
    "    def potential(self):\n",
    "        x = self.r / self.r_s\n",
    "        return -4 * np.pi * self.rho_s * self.r_s**3 * (np.log(1 + x) - x / (1 + x)) / self.r"
   ]
  },
  {
   "cell_type": "code",
   "execution_count": null,
   "metadata": {},
   "outputs": [],
   "source": [
    "class ExponentialPotential:\n",
    "    def __init__(self, r, sigma_0, r_d):\n",
    "        self.r = r\n",
    "        self.sigma_0 = sigma_0\n",
    "        self.r_d = r_d\n",
    "\n",
    "    def potential(self):\n",
    "        return -4 * np.pi * self.sigma_0 * self.r_d * (1 - np.exp(-self.r / self.r_d))"
   ]
  }
 ],
 "metadata": {
  "language_info": {
   "name": "python"
  }
 },
 "nbformat": 4,
 "nbformat_minor": 2
}
