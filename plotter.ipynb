{
 "cells": [
  {
   "cell_type": "code",
   "execution_count": 2,
   "metadata": {},
   "outputs": [
    {
     "data": {
      "application/vnd.jupyter.widget-view+json": {
       "model_id": "c16c0643cc4c4b34aa4fcb16cac71484",
       "version_major": 2,
       "version_minor": 0
      },
      "text/plain": [
       "VBox(children=(HBox(children=(FloatSlider(value=1.0, description='r_s', max=20.0, min=1.0),)), HBox(children=(…"
      ]
     },
     "metadata": {},
     "output_type": "display_data"
    },
    {
     "data": {
      "application/vnd.jupyter.widget-view+json": {
       "model_id": "f882a1f7293e4798999b08ba917d9fe2",
       "version_major": 2,
       "version_minor": 0
      },
      "text/plain": [
       "FigureWidget({\n",
       "    'data': [{'name': 'NFW',\n",
       "              'type': 'scatter',\n",
       "              'uid': '2af15a26-7c79-4e8f-bd29-0428d187269f',\n",
       "              'x': array([ 0.1,  0.2,  0.3, ..., 49.8, 49.9, 50. ]),\n",
       "              'y': array([0.18510419, 0.24760026, 0.27005673, ..., 0.19972717, 0.19961993,\n",
       "                          0.19966606])},\n",
       "             {'name': 'Exponential',\n",
       "              'type': 'scatter',\n",
       "              'uid': '0668f7e9-3e4c-4909-9fff-562679ab6e44',\n",
       "              'x': array([ 0.1,  0.2,  0.3, ..., 49.8, 49.9, 50. ]),\n",
       "              'y': array([0.29343937, 0.40499284, 0.47182206, ..., 0.        , 0.        ,\n",
       "                          0.        ])}],\n",
       "    'layout': {'height': 500,\n",
       "               'template': '...',\n",
       "               'title': {'text': 'Galactic rotation Curves'},\n",
       "               'width': 800,\n",
       "               'xaxis': {'title': {'text': 'Radial Distance (r)'}},\n",
       "               'yaxis': {'title': {'text': 'Rotation Curve (v)'}}}\n",
       "})"
      ]
     },
     "metadata": {},
     "output_type": "display_data"
    }
   ],
   "source": [
    "from potentials import *\n",
    "\n",
    "# Create initial figure widget\n",
    "fig = go.FigureWidget()\n",
    "fig.update_layout(title=\"Galactic rotation Curves\", xaxis_title=\"Radial Distance (r)\", yaxis_title=\"Rotation Curve (v)\", height=500, width=800)\n",
    "\n",
    "# Function to create the plot\n",
    "def update_plot(r_s=1, r_d=1, show_nfw=True, show_exponential=True): # default values\n",
    "    \"\"\"\n",
    "    Creates the plot with the current parameters.\n",
    "    \n",
    "    Parameters:\n",
    "    show_nfw (bool): Whether to show the NFW potential curve.\n",
    "    show_exponential (bool): Whether to show the Exponential potential curve.\n",
    "    \"\"\"\n",
    "    with fig.batch_update():\n",
    "        fig.data = []  # Clear existing data\n",
    "\n",
    "        if show_nfw:\n",
    "            nfw_potential = NFWPotential(r, r_s)\n",
    "            nfw_curve = nfw_potential.rotation_curve()\n",
    "            fig.add_trace(go.Scatter(x=r, y=nfw_curve, name='NFW'))\n",
    "\n",
    "        if show_exponential:\n",
    "            exp_potential = ExponentialPotential(r, r_d)\n",
    "            exp_curve = exp_potential.rotation_curve()\n",
    "            fig.add_trace(go.Scatter(x=r, y=exp_curve, name='Exponential'))\n",
    "\n",
    "# Create interactive sliders and checkboxes\n",
    "r_s_slider = FloatSlider(min=1, max=20, step=0.1, value=1, description=r'r_s')\n",
    "r_d_slider = FloatSlider(min=1, max=20, step=0.01, value=1, description='r_d')\n",
    "\n",
    "show_nfw_checkbox = Checkbox(value=True, description='Show NFW')\n",
    "show_exponential_checkbox = Checkbox(value=True, description='Show Exponential')\n",
    "\n",
    "# Link interactive controls to update function\n",
    "interactive_controls = widgets.interactive(update_plot, \n",
    "                                           r_s=r_s_slider, \n",
    "                                           r_d=r_d_slider, \n",
    "                                           show_nfw=show_nfw_checkbox, \n",
    "                                           show_exponential=show_exponential_checkbox)\n",
    "\n",
    "# Display the interactive controls and figure\n",
    "ui = VBox([HBox([r_s_slider]), HBox([r_d_slider]), HBox([show_nfw_checkbox, show_exponential_checkbox])])\n",
    "display(ui, fig)\n",
    "\n",
    "# Initial plot update\n",
    "update_plot(r_s=11, r_d=1, show_nfw=True, show_exponential=True)"
   ]
  },
  {
   "cell_type": "code",
   "execution_count": null,
   "metadata": {},
   "outputs": [],
   "source": []
  }
 ],
 "metadata": {
  "kernelspec": {
   "display_name": "codeastro",
   "language": "python",
   "name": "python3"
  },
  "language_info": {
   "codemirror_mode": {
    "name": "ipython",
    "version": 3
   },
   "file_extension": ".py",
   "mimetype": "text/x-python",
   "name": "python",
   "nbconvert_exporter": "python",
   "pygments_lexer": "ipython3",
   "version": "3.12.4"
  }
 },
 "nbformat": 4,
 "nbformat_minor": 2
}
